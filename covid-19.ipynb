{
 "cells": [
  {
   "cell_type": "markdown",
   "metadata": {},
   "source": [
    "PYTHON"
   ]
  },
  {
   "cell_type": "code",
   "execution_count": 10,
   "metadata": {},
   "outputs": [],
   "source": [
    "import pandas as pd\n",
    "from datetime import datetime\n",
    "from privatefunctions import add6ColFile, add8ColFile, add12ColFile, add14ColFile"
   ]
  },
  {
   "cell_type": "code",
   "execution_count": 11,
   "metadata": {},
   "outputs": [
    {
     "output_type": "stream",
     "name": "stdout",
     "text": "*** GETTING FILES FROM Johns Hopkins University ...\nfatal: destination path 'COVID-19' already exists and is not an empty directory.\n/Users/adrianosastre/datascience-covid-19/COVID-19\nAlready up to date.\nREADME.md                      \u001b[34mcsse_covid_19_data\u001b[m\u001b[m\n\u001b[34marchived_data\u001b[m\u001b[m                  \u001b[34mwho_covid_19_situation_reports\u001b[m\u001b[m\n/Users/adrianosastre/datascience-covid-19\n\u001b[34mCOVID-19\u001b[m\u001b[m               covid-19.ipynb         standardplot.py\nPandas_Cheat_Sheet.pdf hello.py\n\u001b[34m__pycache__\u001b[m\u001b[m            privatefunctions.py\n"
    }
   ],
   "source": [
    "## Git clonning and pulling:\n",
    "\n",
    "print('***', 'GETTING FILES FROM Johns Hopkins University ...')\n",
    "\n",
    "!git clone https://github.com/CSSEGISandData/COVID-19\n",
    "%cd './COVID-19'\n",
    "!git pull\n",
    "!ls\n",
    "%cd ..\n",
    "!ls"
   ]
  },
  {
   "cell_type": "code",
   "execution_count": 12,
   "metadata": {},
   "outputs": [
    {
     "output_type": "stream",
     "name": "stdout",
     "text": "*** 144 DAILY FILES IN Johns Hopkins University.\n"
    }
   ],
   "source": [
    "## Getting csv data:\n",
    "daily_reports_path = './COVID-19/csse_covid_19_data/csse_covid_19_daily_reports/'\n",
    "csv_file_names = !ls $daily_reports_path | grep .csv\n",
    "\n",
    "print('***', len(csv_file_names), 'DAILY FILES IN Johns Hopkins University.')"
   ]
  },
  {
   "cell_type": "code",
   "execution_count": 14,
   "metadata": {},
   "outputs": [
    {
     "output_type": "stream",
     "name": "stdout",
     "text": "*** INITIAL MAIN DATAFRAME: \nEmpty DataFrame\nColumns: [Date, City, State, Country, Latitude, Longitude, TotalConfirmed, TotalDeaths, TotalRecovered, TotalActive, CaseFatalityRatio, IncidenceRate, MortalityRate, DailyConfirmed, DailyDeaths, DailyRecovered, DailyActive]\nIndex: []\nDate                 object\nCity                 object\nState                object\nCountry              object\nLatitude             object\nLongitude            object\nTotalConfirmed       object\nTotalDeaths          object\nTotalRecovered       object\nTotalActive          object\nCaseFatalityRatio    object\nIncidenceRate        object\nMortalityRate        object\nDailyConfirmed       object\nDailyDeaths          object\nDailyRecovered       object\nDailyActive          object\ndtype: object\n"
    }
   ],
   "source": [
    "main_df = pd.DataFrame(\n",
    "  columns=[\n",
    "    'Date', \n",
    "    'City', \n",
    "    'State', \n",
    "    'Country', \n",
    "    'Latitude', \n",
    "    'Longitude', \n",
    "    'TotalConfirmed', \n",
    "    'TotalDeaths', \n",
    "    'TotalRecovered', \n",
    "    'TotalActive', \n",
    "    'CaseFatalityRatio', \n",
    "    'IncidenceRate', \n",
    "    'MortalityRate',\n",
    "    'DailyConfirmed', \n",
    "    'DailyDeaths', \n",
    "    'DailyRecovered', \n",
    "    'DailyActive']) \n",
    "\n",
    "print('*** INITIAL MAIN DATAFRAME: ')\n",
    "\n",
    "print(main_df)\n",
    "print(main_df.dtypes)"
   ]
  },
  {
   "cell_type": "code",
   "execution_count": 13,
   "metadata": {},
   "outputs": [
    {
     "output_type": "stream",
     "name": "stdout",
     "text": "*** WILL START GETTING DATA FROM Johns Hopkins University AND NORMALIZE COLUMNS NAMES: \n*** DATE: 2020-01-22 38 lines, 6 columns ...\n"
    },
    {
     "output_type": "error",
     "ename": "NameError",
     "evalue": "name 'main_df' is not defined",
     "traceback": [
      "\u001b[0;31m---------------------------------------------------------------------------\u001b[0m",
      "\u001b[0;31mNameError\u001b[0m                                 Traceback (most recent call last)",
      "\u001b[0;32m<ipython-input-13-27af0fe139cf>\u001b[0m in \u001b[0;36m<module>\u001b[0;34m\u001b[0m\n\u001b[1;32m     16\u001b[0m   \u001b[0;31m# 6-columns file format:\u001b[0m\u001b[0;34m\u001b[0m\u001b[0;34m\u001b[0m\u001b[0;34m\u001b[0m\u001b[0m\n\u001b[1;32m     17\u001b[0m   \u001b[0;32mif\u001b[0m \u001b[0mdf\u001b[0m\u001b[0;34m.\u001b[0m\u001b[0mshape\u001b[0m\u001b[0;34m[\u001b[0m\u001b[0;36m1\u001b[0m\u001b[0;34m]\u001b[0m \u001b[0;34m==\u001b[0m \u001b[0;36m6\u001b[0m \u001b[0;34m:\u001b[0m\u001b[0;34m\u001b[0m\u001b[0;34m\u001b[0m\u001b[0m\n\u001b[0;32m---> 18\u001b[0;31m     \u001b[0mmain_df\u001b[0m \u001b[0;34m=\u001b[0m \u001b[0madd6ColFile\u001b[0m\u001b[0;34m(\u001b[0m\u001b[0mdate\u001b[0m\u001b[0;34m,\u001b[0m \u001b[0mdf\u001b[0m\u001b[0;34m,\u001b[0m \u001b[0mmain_df\u001b[0m\u001b[0;34m)\u001b[0m\u001b[0;34m\u001b[0m\u001b[0;34m\u001b[0m\u001b[0m\n\u001b[0m\u001b[1;32m     19\u001b[0m \u001b[0;34m\u001b[0m\u001b[0m\n\u001b[1;32m     20\u001b[0m   \u001b[0;31m# 8-columns file format:\u001b[0m\u001b[0;34m\u001b[0m\u001b[0;34m\u001b[0m\u001b[0;34m\u001b[0m\u001b[0m\n",
      "\u001b[0;31mNameError\u001b[0m: name 'main_df' is not defined"
     ]
    }
   ],
   "source": [
    "print('*** WILL START GETTING DATA FROM Johns Hopkins University AND NORMALIZE COLUMNS NAMES: ')\n",
    "\n",
    "# 1 file per day:\n",
    "for file in csv_file_names:\n",
    "\n",
    "  file_path = daily_reports_path + file\n",
    "\n",
    "  # read daily csv data:\n",
    "  df = pd.read_csv(daily_reports_path + file)\n",
    "\n",
    "  # get date from file name:\n",
    "  date = datetime.strptime(file[0:-4], '%m-%d-%Y').date()\n",
    "\n",
    "  print('*** DATE:', date, df.shape[0], 'lines,', df.shape[1], 'columns ...')\n",
    "\n",
    "  # 6-columns file format:\n",
    "  if df.shape[1] == 6 : \n",
    "    main_df = add6ColFile(date, df, main_df)\n",
    "\n",
    "  # 8-columns file format:\n",
    "  elif df.shape[1] == 8 :\n",
    "    main_df = add8ColFile(date, df, main_df)\n",
    "\n",
    "  # 12-columns file format:\n",
    "  elif df.shape[1] == 12 :\n",
    "    main_df = add12ColFile(date, df, main_df)\n",
    "    \n",
    "  # 14-columns file format:\n",
    "  elif df.shape[1] == 14 :\n",
    "    main_df = add14ColFile(date, df, main_df)\n",
    "\n",
    "print('*** MAIN DATAFRAME AFTER GETTING DATA FROM Johns Hopkins University: ')\n",
    "\n",
    "print(main_df.shape)\n",
    "print(main_df.dtypes)\n",
    "print(main_df)\n",
    "print(main_df.dtypes)\n",
    "print(main_df.shape)"
   ]
  },
  {
   "cell_type": "code",
   "execution_count": null,
   "metadata": {},
   "outputs": [],
   "source": [
    "print('*** WILL CALCULATE DAILY NUMBERS ... ')\n",
    "\n",
    "previousDayConfirmed = 0\n",
    "previousDayDeaths = 0\n",
    "previousDayRecovered = 0\n",
    "previousDayActive = 0\n",
    "\n",
    "for i in range(len(main_df)):\n",
    "\n",
    "    print('*** DATE:', main_df.iloc[i,'Date'], '...')\n",
    "\n",
    "    totalConfirmed = main_df.iloc[i,'TotalConfirmed']\n",
    "    main_df.iloc[i,'DailyConfirmed'] = totalConfirmed - previousDayConfirmed\n",
    "    previousDayConfirmed = totalConfirmed\n",
    "\n",
    "    totalDeaths = main_df.iloc[i,'TotalDeaths']\n",
    "    main_df.iloc[i,'DailyDeaths'] = totalDeaths - previousDayDeaths\n",
    "    previousDayDeths = totalDeaths\n",
    "\n",
    "    totalRecovered = main_df.iloc[i,'TotalRecovered']\n",
    "    main_df.iloc[i,'DailyRecovered'] = totalRecovered - previousDayRecovered\n",
    "    previousDayRecovered = totalRecovered\n",
    "\n",
    "    totalActive = main_df.iloc[i,'TotalActive']\n",
    "    main_df.iloc[i,'DailyActive'] = totalActive - previousDayActive\n",
    "    previousDayActive = totalActive\n",
    "\n",
    "print('*** MAIN DATAFRAME AFTER CALCULATING DAILY NUMBERS: ')\n",
    "\n",
    "print(main_df.shape)\n",
    "print(main_df.dtypes)\n",
    "print(main_df)\n",
    "print(main_df.dtypes)\n",
    "print(main_df.shape)\n"
   ]
  }
 ],
 "metadata": {
  "language_info": {
   "codemirror_mode": {
    "name": "ipython",
    "version": 2
   },
   "file_extension": ".py",
   "mimetype": "text/x-python",
   "name": "python",
   "nbconvert_exporter": "python",
   "pygments_lexer": "ipython2",
   "version": "3.8.2-final"
  },
  "orig_nbformat": 2,
  "kernelspec": {
   "name": "python38264bitvenvvenv172388887a2948b2a15592393bf8a030",
   "display_name": "Python 3.8.2 64-bit ('.venv': venv)"
  }
 },
 "nbformat": 4,
 "nbformat_minor": 2
}